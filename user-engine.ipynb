{
 "cells": [
  {
   "cell_type": "code",
   "execution_count": 2,
   "metadata": {},
   "outputs": [
    {
     "name": "stdout",
     "output_type": "stream",
     "text": [
      " * Serving Flask app '__main__'\n",
      " * Debug mode: off\n"
     ]
    },
    {
     "name": "stderr",
     "output_type": "stream",
     "text": [
      "WARNING: This is a development server. Do not use it in a production deployment. Use a production WSGI server instead.\n",
      " * Running on http://127.0.0.1:5000\n",
      "Press CTRL+C to quit\n",
      "127.0.0.1 - - [26/Aug/2024 21:50:37] \"GET / HTTP/1.1\" 200 -\n",
      "127.0.0.1 - - [26/Aug/2024 21:50:37] \"GET /static/assets/linkedin.png HTTP/1.1\" 200 -\n",
      "127.0.0.1 - - [26/Aug/2024 21:50:37] \"GET /static/assets/twitter.png HTTP/1.1\" 200 -\n",
      "127.0.0.1 - - [26/Aug/2024 21:50:37] \"GET /static/assets/instagram.png HTTP/1.1\" 200 -\n",
      "127.0.0.1 - - [26/Aug/2024 21:50:37] \"GET /static/assets/pexels-tima-miroshnichenko-6010766.mp4 HTTP/1.1\" 206 -\n",
      "127.0.0.1 - - [26/Aug/2024 21:51:16] \"GET / HTTP/1.1\" 200 -\n",
      "127.0.0.1 - - [26/Aug/2024 21:51:17] \"GET /static/assets/linkedin.png HTTP/1.1\" 304 -\n",
      "127.0.0.1 - - [26/Aug/2024 21:51:17] \"GET /static/assets/twitter.png HTTP/1.1\" 304 -\n",
      "127.0.0.1 - - [26/Aug/2024 21:51:17] \"GET /static/assets/instagram.png HTTP/1.1\" 304 -\n",
      "127.0.0.1 - - [26/Aug/2024 21:51:17] \"GET /static/assets/pexels-tima-miroshnichenko-6010766.mp4 HTTP/1.1\" 206 -\n",
      "127.0.0.1 - - [26/Aug/2024 21:51:29] \"GET /favicon.ico HTTP/1.1\" 404 -\n"
     ]
    },
    {
     "name": "stdout",
     "output_type": "stream",
     "text": [
      "moderateDem0.jpg\n",
      "WARNING:tensorflow:From c:\\Users\\ATHARVA JADHAV\\AppData\\Local\\Programs\\Python\\Python310\\lib\\site-packages\\keras\\src\\saving\\legacy\\saved_model\\load.py:107: The name tf.gfile.Exists is deprecated. Please use tf.io.gfile.exists instead.\n",
      "\n",
      "WARNING:tensorflow:From c:\\Users\\ATHARVA JADHAV\\AppData\\Local\\Programs\\Python\\Python310\\lib\\site-packages\\keras\\src\\layers\\pooling\\max_pooling2d.py:161: The name tf.nn.max_pool is deprecated. Please use tf.nn.max_pool2d instead.\n",
      "\n",
      "WARNING:tensorflow:From c:\\Users\\ATHARVA JADHAV\\AppData\\Local\\Programs\\Python\\Python310\\lib\\site-packages\\keras\\src\\utils\\tf_utils.py:585: The name tf.executing_eagerly_outside_functions is deprecated. Please use tf.compat.v1.executing_eagerly_outside_functions instead.\n",
      "\n",
      "moderateDem0.jpg\n",
      "1/1 [==============================] - 2s 2s/step\n"
     ]
    },
    {
     "name": "stderr",
     "output_type": "stream",
     "text": [
      "127.0.0.1 - - [26/Aug/2024 21:52:43] \"POST / HTTP/1.1\" 200 -\n",
      "INFO:werkzeug:127.0.0.1 - - [26/Aug/2024 21:52:43] \"POST / HTTP/1.1\" 200 -\n"
     ]
    },
    {
     "name": "stdout",
     "output_type": "stream",
     "text": [
      "Very Mild Dementia\n",
      "1/1 [==============================] - 1s 724ms/step\n"
     ]
    },
    {
     "name": "stderr",
     "output_type": "stream",
     "text": [
      "127.0.0.1 - - [26/Aug/2024 21:52:44] \"POST / HTTP/1.1\" 200 -\n",
      "INFO:werkzeug:127.0.0.1 - - [26/Aug/2024 21:52:44] \"POST / HTTP/1.1\" 200 -\n",
      "127.0.0.1 - - [26/Aug/2024 21:52:44] \"GET /static/assets/linkedin.png HTTP/1.1\" 304 -\n",
      "INFO:werkzeug:127.0.0.1 - - [26/Aug/2024 21:52:44] \"\u001b[36mGET /static/assets/linkedin.png HTTP/1.1\u001b[0m\" 304 -\n",
      "127.0.0.1 - - [26/Aug/2024 21:52:44] \"GET /static/assets/twitter.png HTTP/1.1\" 304 -\n",
      "INFO:werkzeug:127.0.0.1 - - [26/Aug/2024 21:52:44] \"\u001b[36mGET /static/assets/twitter.png HTTP/1.1\u001b[0m\" 304 -\n"
     ]
    },
    {
     "name": "stdout",
     "output_type": "stream",
     "text": [
      "Very Mild Dementia\n"
     ]
    },
    {
     "name": "stderr",
     "output_type": "stream",
     "text": [
      "127.0.0.1 - - [26/Aug/2024 21:52:44] \"GET /static/assets/instagram.png HTTP/1.1\" 304 -\n",
      "INFO:werkzeug:127.0.0.1 - - [26/Aug/2024 21:52:44] \"\u001b[36mGET /static/assets/instagram.png HTTP/1.1\u001b[0m\" 304 -\n"
     ]
    },
    {
     "name": "stdout",
     "output_type": "stream",
     "text": [
      "mildDem1.jpg\n",
      "1/1 [==============================] - 1s 1s/step\n"
     ]
    },
    {
     "name": "stderr",
     "output_type": "stream",
     "text": [
      "127.0.0.1 - - [26/Aug/2024 21:53:13] \"POST / HTTP/1.1\" 200 -\n",
      "INFO:werkzeug:127.0.0.1 - - [26/Aug/2024 21:53:13] \"POST / HTTP/1.1\" 200 -\n",
      "127.0.0.1 - - [26/Aug/2024 21:53:13] \"GET /static/assets/linkedin.png HTTP/1.1\" 304 -\n",
      "INFO:werkzeug:127.0.0.1 - - [26/Aug/2024 21:53:13] \"\u001b[36mGET /static/assets/linkedin.png HTTP/1.1\u001b[0m\" 304 -\n",
      "127.0.0.1 - - [26/Aug/2024 21:53:13] \"GET /static/assets/instagram.png HTTP/1.1\" 304 -\n",
      "INFO:werkzeug:127.0.0.1 - - [26/Aug/2024 21:53:13] \"\u001b[36mGET /static/assets/instagram.png HTTP/1.1\u001b[0m\" 304 -\n",
      "127.0.0.1 - - [26/Aug/2024 21:53:13] \""
     ]
    },
    {
     "name": "stdout",
     "output_type": "stream",
     "text": [
      "Mild Dementia\n"
     ]
    },
    {
     "name": "stderr",
     "output_type": "stream",
     "text": [
      "GET /static/assets/twitter.png HTTP/1.1\" 304 -\n",
      "INFO:werkzeug:127.0.0.1 - - [26/Aug/2024 21:53:13] \"\u001b[36mGET /static/assets/twitter.png HTTP/1.1\u001b[0m\" 304 -\n"
     ]
    },
    {
     "name": "stdout",
     "output_type": "stream",
     "text": [
      "harry_potter_hd_harry_potter_magic_awakened.jpg\n",
      "1/1 [==============================] - 1s 991ms/step\n"
     ]
    },
    {
     "name": "stderr",
     "output_type": "stream",
     "text": [
      "127.0.0.1 - - [26/Aug/2024 21:53:41] \"POST / HTTP/1.1\" 200 -\n",
      "INFO:werkzeug:127.0.0.1 - - [26/Aug/2024 21:53:41] \"POST / HTTP/1.1\" 200 -\n",
      "127.0.0.1 - - [26/Aug/2024 21:53:41] \"GET /static/assets/linkedin.png HTTP/1.1\" 304 -\n",
      "INFO:werkzeug:127.0.0.1 - - [26/Aug/2024 21:53:41] \"\u001b[36mGET /static/assets/linkedin.png HTTP/1.1\u001b[0m\" 304 -\n",
      "127.0.0.1 - - [26/Aug/2024 21:53:41] \"GET /static/assets/twitter.png HTTP/1.1\" 304 -\n",
      "INFO:werkzeug:127.0.0.1 - - [26/Aug/2024 21:53:41] \"\u001b[36mGET /static/assets/twitter.png HTTP/1.1\u001b[0m\" 304 -\n",
      "127.0.0.1 - - [26/Aug/2024 21:53:41] \""
     ]
    },
    {
     "name": "stdout",
     "output_type": "stream",
     "text": [
      "Mild Dementia\n"
     ]
    },
    {
     "name": "stderr",
     "output_type": "stream",
     "text": [
      "GET /static/assets/instagram.png HTTP/1.1\" 304 -\n",
      "INFO:werkzeug:127.0.0.1 - - [26/Aug/2024 21:53:41] \"\u001b[36mGET /static/assets/instagram.png HTTP/1.1\u001b[0m\" 304 -\n"
     ]
    }
   ],
   "source": [
    "import os\n",
    "import urllib.request\n",
    "from flask import Flask, flash, request, redirect, url_for, render_template\n",
    "from werkzeug.utils import secure_filename\n",
    "import numpy as np\n",
    "import tensorflow as tf\n",
    "\n",
    "ASSET_FOLDER = 'static/assets/'\n",
    "\n",
    "app = Flask(__name__)\n",
    "app.config['ASSET_FOLDER'] = ASSET_FOLDER\n",
    "\n",
    "github_icon = os.path.join(app.config['ASSET_FOLDER'], 'github.png')\n",
    "linkedin_icon = os.path.join(app.config['ASSET_FOLDER'], 'linkedin.png')\n",
    "instagram_icon = os.path.join(app.config['ASSET_FOLDER'], 'instagram.png')\n",
    "twitter_icon = os.path.join(app.config['ASSET_FOLDER'], 'twitter.png')\n",
    "bg_video = os.path.join(app.config['ASSET_FOLDER'], 'pexels-tima-miroshnichenko-6010766.mp4')\n",
    "    \n",
    "@app.route('/')\n",
    "def upload_form():\n",
    "    return render_template('index.html', type=\"\", githubicon=github_icon, linkedinicon=linkedin_icon, instagramicon=instagram_icon, twittericon=twitter_icon, bgvideo=bg_video)\n",
    "\n",
    "@app.route('/', methods=['POST'])\n",
    "def upload_image():\n",
    "    file = request.files['file']\n",
    "    print(file.filename)\n",
    "    file.save(os.path.join(\"static/uploads\", secure_filename(file.filename)))\n",
    "\n",
    "    imvar = tf.keras.preprocessing.image.load_img(os.path.join(\"static/uploads\", secure_filename(file.filename))).resize((176, 176))\n",
    "    imarr = tf.keras.preprocessing.image.img_to_array(imvar)\n",
    "    imarr = np.array([imarr])\n",
    "    model = tf.keras.models.load_model(\"model\")\n",
    "    impred = model.predict(imarr)\n",
    "\n",
    "    def roundoff(arr):\n",
    "        \"\"\"To round off according to the argmax of each predicted label array. \"\"\"\n",
    "        arr[np.argwhere(arr != arr.max())] = 0\n",
    "        arr[np.argwhere(arr == arr.max())] = 1\n",
    "        return arr\n",
    "\n",
    "    for classpreds in impred:\n",
    "        impred = roundoff(classpreds)\n",
    "    \n",
    "    classcount = 1\n",
    "    for count in range(4):\n",
    "        if impred[count] == 1.0:\n",
    "            break\n",
    "        else:\n",
    "            classcount+=1\n",
    "    \n",
    "    classdict = {1: \"Mild Dementia\", 2: \"Moderate Dementia\", 3: \"No Dementia, Patient is Safe\", 4: \"Very Mild Dementia\"}\n",
    "    print(classdict[classcount])\n",
    "\n",
    "    c = 'xyz'\n",
    "    return render_template('index.html', type=\"Patient is suffering from \"+str(classdict[classcount]), githubicon=github_icon, linkedinicon=linkedin_icon, instagramicon=instagram_icon, twittericon=twitter_icon, bgvideo=bg_video)\n",
    "\n",
    "if __name__ == \"__main__\":\n",
    "    app.run()"
   ]
  },
  {
   "cell_type": "code",
   "execution_count": null,
   "metadata": {},
   "outputs": [],
   "source": []
  }
 ],
 "metadata": {
  "kernelspec": {
   "display_name": "Python 3.10.0 64-bit",
   "language": "python",
   "name": "python3"
  },
  "language_info": {
   "codemirror_mode": {
    "name": "ipython",
    "version": 3
   },
   "file_extension": ".py",
   "mimetype": "text/x-python",
   "name": "python",
   "nbconvert_exporter": "python",
   "pygments_lexer": "ipython3",
   "version": "3.10.5"
  },
  "orig_nbformat": 4,
  "vscode": {
   "interpreter": {
    "hash": "42d631c97d3a7942c4c370955af34a4195632f6be3582dbc391d521a11ed78e3"
   }
  }
 },
 "nbformat": 4,
 "nbformat_minor": 2
}
